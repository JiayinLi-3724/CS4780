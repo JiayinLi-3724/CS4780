{
 "cells": [
  {
   "cell_type": "code",
   "execution_count": 53,
   "metadata": {},
   "outputs": [
    {
     "name": "stdout",
     "output_type": "stream",
     "text": [
      "Automatically created module for IPython interactive environment\n"
     ]
    },
    {
     "data": {
      "image/png": "[encoded data removed]",
      "text/plain": [
       "<Figure size 432x288 with 1 Axes>"
      ]
     },
     "metadata": {
      "needs_background": "light"
     },
     "output_type": "display_data"
    }
   ],
   "source": [
    "print(__doc__)\n",
    "import numpy as np\n",
    "import matplotlib.pyplot as plt\n",
    "from matplotlib.colors import ListedColormap\n",
    "from sklearn import neighbors, datasets\n",
    "\n",
    "def CreateDataSet():\n",
    "    group=np.array([[1.0,1.0],[3.0,3.0],[5.0,4.0],[3.0,0.0],[6.0,2.0],[7.0,3.0]],dtype = 'float_')\n",
    "    labels=[0,0,0,1,1,1]#0 for red, 1 for blue\n",
    "    return group,labels\n",
    "\n",
    "\n",
    "data=CreateDataSet()\n",
    "X=data[0]\n",
    "y=data[1]\n",
    "\n",
    "\n",
    "cmap_light = ListedColormap(['#FFAAAA', '#AAAAFF'])#'#FFAAAA'pink, #AAAAFF blue\n",
    "cmap_bold = ListedColormap(['#FF0000', '#0000FF']) #'#FF0000'red, #0000FF blue\n",
    "\n",
    "n_neighbors = 1\n",
    "clf = neighbors.KNeighborsClassifier(n_neighbors,p=2)\n",
    "clf.fit(X, y)\n",
    "\n",
    "h=0.02\n",
    "x_min, x_max = X[:, 0].min() - 1, X[:, 0].max() + 1\n",
    "y_min, y_max = X[:, 1].min() - 1, X[:, 1].max() + 1\n",
    "xx, yy = np.meshgrid(np.arange(x_min, x_max, h),np.arange(y_min, y_max, h))\n",
    "Z = clf.predict(np.c_[xx.ravel(), yy.ravel()])\n",
    "\n",
    "\n",
    "\n",
    "\n",
    "\n",
    "Z = Z.reshape(xx.shape)\n",
    "plt.figure()\n",
    "plt.pcolormesh(xx, yy, Z, cmap=cmap_light)\n",
    " \n",
    "    \n",
    "plt.scatter(X[:, 0], X[:, 1], c=y, cmap=cmap_bold)\n",
    "plt.xlim(xx.min(), xx.max())\n",
    "plt.ylim(yy.min(), yy.max())\n",
    "plt.title(\"KNN (k = %i)\" % (n_neighbors))\n",
    "plt.show()    \n",
    "    \n",
    "\n"
   ]
  },
  {
   "cell_type": "code",
   "execution_count": 55,
   "metadata": {},
   "outputs": [
    {
     "name": "stdout",
     "output_type": "stream",
     "text": [
      "Automatically created module for IPython interactive environment\n"
     ]
    },
    {
     "data": {
      "image/png": "[encoded data removed]",
      "text/plain": [
       "<Figure size 432x288 with 1 Axes>"
      ]
     },
     "metadata": {
      "needs_background": "light"
     },
     "output_type": "display_data"
    }
   ],
   "source": [
    "print(__doc__)\n",
    "import numpy as np\n",
    "import matplotlib.pyplot as plt\n",
    "from matplotlib.colors import ListedColormap\n",
    "from sklearn import neighbors, datasets\n",
    "\n",
    "def CreateDataSet():\n",
    "    group=np.array([[1.0,5.0],[3.0,15.0],[5.0,20.0],[3.0,0.0],[6.0,10.0],[7.0,15.0]],dtype = 'float_')\n",
    "    labels=[0,0,0,1,1,1]#0 for red, 1 for blue\n",
    "    return group,labels\n",
    "\n",
    "\n",
    "data=CreateDataSet()\n",
    "X=data[0]\n",
    "y=data[1]\n",
    "\n",
    "\n",
    "cmap_light = ListedColormap(['#FFAAAA', '#AAAAFF'])#'#FFAAAA'pink, #AAAAFF blue\n",
    "cmap_bold = ListedColormap(['#FF0000', '#0000FF']) #'#FF0000'red, #0000FF blue\n",
    "\n",
    "n_neighbors = 1\n",
    "clf = neighbors.KNeighborsClassifier(n_neighbors,p=2)\n",
    "clf.fit(X, y)\n",
    "\n",
    "h=0.02\n",
    "x_min, x_max = X[:, 0].min() - 1, X[:, 0].max() + 1\n",
    "y_min, y_max = X[:, 1].min() - 1, X[:, 1].max() + 1\n",
    "xx, yy = np.meshgrid(np.arange(x_min, x_max, h),np.arange(y_min, y_max, h))\n",
    "Z = clf.predict(np.c_[xx.ravel(), yy.ravel()])\n",
    "\n",
    "\n",
    "\n",
    "\n",
    "\n",
    "Z = Z.reshape(xx.shape)\n",
    "plt.figure()\n",
    "plt.pcolormesh(xx, yy, Z, cmap=cmap_light)\n",
    " \n",
    "    \n",
    "plt.scatter(X[:, 0], X[:, 1], c=y, cmap=cmap_bold)\n",
    "plt.xlim(xx.min(), xx.max())\n",
    "plt.ylim(yy.min(), yy.max())\n",
    "plt.title(\"KNN (k = %i)\" % (n_neighbors))\n",
    "plt.show()    \n",
    "    \n",
    "\n"
   ]
  },
  {
   "cell_type": "code",
   "execution_count": 65,
   "metadata": {},
   "outputs": [
    {
     "name": "stdout",
     "output_type": "stream",
     "text": [
      "Automatically created module for IPython interactive environment\n"
     ]
    },
    {
     "data": {
      "image/png": "[encoded data removed]",
      "text/plain": [
       "<Figure size 432x288 with 1 Axes>"
      ]
     },
     "metadata": {
      "needs_background": "light"
     },
     "output_type": "display_data"
    },
    {
     "name": "stdout",
     "output_type": "stream",
     "text": [
      "Prediction:  Red\n"
     ]
    }
   ],
   "source": [
    "print(__doc__)\n",
    "import numpy as np\n",
    "import matplotlib.pyplot as plt\n",
    "from matplotlib.colors import ListedColormap\n",
    "from sklearn import neighbors, datasets\n",
    "\n",
    "def CreateDataSet():\n",
    "    group=np.array([[1.0,1.0],[3.0,3.0],[5.0,4.0],[3.0,0.0],[6.0,2.0],[7.0,3.0]],dtype = 'float_')\n",
    "    labels=[0,0,0,1,1,1]#0 for red, 1 for blue\n",
    "    return group,labels\n",
    "\n",
    "\n",
    "data=CreateDataSet()\n",
    "X=data[0]\n",
    "y=data[1]\n",
    "\n",
    "\n",
    "cmap_light = ListedColormap(['#FFAAAA', '#AAAAFF'])#'#FFAAAA'pink, #AAAAFF blue\n",
    "cmap_bold = ListedColormap(['#FF0000', '#0000FF']) #'#FF0000'red, #0000FF blue\n",
    "\n",
    "n_neighbors = 3\n",
    "clf = neighbors.KNeighborsClassifier(n_neighbors,p=2)\n",
    "clf.fit(X, y)\n",
    "\n",
    "h=0.02\n",
    "x_min, x_max = X[:, 0].min() - 1, X[:, 0].max() + 1\n",
    "y_min, y_max = X[:, 1].min() - 1, X[:, 1].max() + 1\n",
    "xx, yy = np.meshgrid(np.arange(x_min, x_max, h),np.arange(y_min, y_max, h))\n",
    "Z = clf.predict(np.c_[xx.ravel(), yy.ravel()])\n",
    "\n",
    "\n",
    "\n",
    "\n",
    "\n",
    "Z = Z.reshape(xx.shape)\n",
    "plt.figure()\n",
    "plt.pcolormesh(xx, yy, Z, cmap=cmap_light)\n",
    " \n",
    "    \n",
    "plt.scatter(X[:, 0], X[:, 1], c=y, cmap=cmap_bold)\n",
    "plt.xlim(xx.min(), xx.max())\n",
    "plt.ylim(yy.min(), yy.max())\n",
    "plt.title(\"KNN (k = %i)\" % (n_neighbors))\n",
    "predictpt= np.array([[2,2]])\n",
    "plt.scatter(predictpt[:, 0], predictpt[:, 1], c=[0], cmap=ListedColormap(['#F5FF50']))\n",
    "plt.show()    \n",
    "    \n",
    "# prediction \n",
    "import numpy as np\n",
    "from sklearn import neighbors, datasets\n",
    "from sklearn import preprocessing\n",
    "\n",
    "dataClass = clf.predict([[2,2]])\n",
    "print('Prediction: '),\n",
    "\n",
    "if dataClass == 0:print('Red')\n",
    "else: print('Blue')\n",
    "\n"
   ]
  },
  {
   "cell_type": "code",
   "execution_count": 68,
   "metadata": {},
   "outputs": [
    {
     "name": "stdout",
     "output_type": "stream",
     "text": [
      "Automatically created module for IPython interactive environment\n"
     ]
    },
    {
     "data": {
      "image/png": "[encoded data removed]",
      "text/plain": [
       "<Figure size 432x288 with 1 Axes>"
      ]
     },
     "metadata": {
      "needs_background": "light"
     },
     "output_type": "display_data"
    },
    {
     "name": "stdout",
     "output_type": "stream",
     "text": [
      "Prediction:  Blue\n"
     ]
    }
   ],
   "source": [
    "print(__doc__)\n",
    "import numpy as np\n",
    "import matplotlib.pyplot as plt\n",
    "from matplotlib.colors import ListedColormap\n",
    "from sklearn import neighbors, datasets\n",
    "\n",
    "def CreateDataSet():\n",
    "    group=np.array([[1.0,1.0],[3.0,3.0],[5.0,4.0],[3.0,0.0],[6.0,2.0],[7.0,3.0],[2.0,3.0],[3.0,2.0]],dtype = 'float_')\n",
    "    labels=[0,0,0,1,1,1,1,1]#0 for red, 1 for blue\n",
    "    return group,labels\n",
    "\n",
    "\n",
    "data=CreateDataSet()\n",
    "X=data[0]\n",
    "y=data[1]\n",
    "\n",
    "\n",
    "cmap_light = ListedColormap(['#FFAAAA', '#AAAAFF'])#'#FFAAAA'pink, #AAAAFF blue\n",
    "cmap_bold = ListedColormap(['#FF0000', '#0000FF']) #'#FF0000'red, #0000FF blue\n",
    "\n",
    "n_neighbors = 3\n",
    "clf = neighbors.KNeighborsClassifier(n_neighbors,p=2)\n",
    "clf.fit(X, y)\n",
    "\n",
    "h=0.02\n",
    "x_min, x_max = X[:, 0].min() - 1, X[:, 0].max() + 1\n",
    "y_min, y_max = X[:, 1].min() - 1, X[:, 1].max() + 1\n",
    "xx, yy = np.meshgrid(np.arange(x_min, x_max, h),np.arange(y_min, y_max, h))\n",
    "Z = clf.predict(np.c_[xx.ravel(), yy.ravel()])\n",
    "\n",
    "\n",
    "\n",
    "\n",
    "\n",
    "Z = Z.reshape(xx.shape)\n",
    "plt.figure()\n",
    "plt.pcolormesh(xx, yy, Z, cmap=cmap_light)\n",
    " \n",
    "    \n",
    "plt.scatter(X[:, 0], X[:, 1], c=y, cmap=cmap_bold)\n",
    "plt.xlim(xx.min(), xx.max())\n",
    "plt.ylim(yy.min(), yy.max())\n",
    "plt.title(\"KNN (k = %i)\" % (n_neighbors))\n",
    "predictpt= np.array([[2,2]])\n",
    "plt.scatter(predictpt[:, 0], predictpt[:, 1], c=[0], cmap=ListedColormap(['#F5FF50']))    \n",
    "plt.show()    \n",
    "    \n",
    "# prediction \n",
    "import numpy as np\n",
    "from sklearn import neighbors, datasets\n",
    "from sklearn import preprocessing\n",
    "\n",
    "dataClass = clf.predict([[2,2]])\n",
    "print('Prediction: '),\n",
    "\n",
    "if dataClass == 0:print('Red')\n",
    "else: print('Blue')\n",
    "\n"
   ]
  },
  {
   "cell_type": "code",
   "execution_count": null,
   "metadata": {},
   "outputs": [],
   "source": []
  }
 ],
 "metadata": {
  "kernelspec": {
   "display_name": "Python 2",
   "language": "python",
   "name": "python2"
  },
  "language_info": {
   "codemirror_mode": {
    "name": "ipython",
    "version": 2
   },
   "file_extension": ".py",
   "mimetype": "text/x-python",
   "name": "python",
   "nbconvert_exporter": "python",
   "pygments_lexer": "ipython2",
   "version": "2.7.16"
  }
 },
 "nbformat": 4,
 "nbformat_minor": 2
}
